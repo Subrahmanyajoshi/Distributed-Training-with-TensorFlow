{
 "cells": [
  {
   "cell_type": "code",
   "execution_count": 1,
   "id": "7324ff97-c940-417d-8f31-6d6692a16224",
   "metadata": {},
   "outputs": [],
   "source": [
    "!sudo chown -R jupyter:jupyter /home/jupyter/Distributed-Training-with-Tensorflow"
   ]
  },
  {
   "cell_type": "code",
   "execution_count": 2,
   "id": "5ca97ead-8276-446f-ad60-1ea1be2800e7",
   "metadata": {},
   "outputs": [],
   "source": [
    "import os"
   ]
  },
  {
   "cell_type": "code",
   "execution_count": 3,
   "id": "a37f8c67-7450-43bf-b84d-b8b17ff858a7",
   "metadata": {},
   "outputs": [],
   "source": [
    "ENV_VARS = {'PROJECT': 'text-analysis-323506',\n",
    "            'REGION': 'us-central1',\n",
    "            'BUCKET': 'text-analysis-323506',\n",
    "            'MACHINE_TYPE': 'n1-standard-4',\n",
    "            'REPLICA_COUNT': 1,\n",
    "            'EXECUTE_IMAGE_URI': 'us-docker.pkg.dev/vertex-ai/training/tf-gpu.2-8:latest',\n",
    "            'LOCAL_PACKAGE_PATH': '/home/jupyter/Distributed-Training-with-Tensorflow',\n",
    "            'PYTHON_MODULE': 'trainer.task'}"
   ]
  },
  {
   "cell_type": "code",
   "execution_count": 4,
   "id": "db6f0368-0d55-4de1-8671-b012d9f1567b",
   "metadata": {},
   "outputs": [],
   "source": [
    "for key, value in ENV_VARS.items():\n",
    "    os.environ[key] = str(value)"
   ]
  },
  {
   "cell_type": "code",
   "execution_count": 5,
   "id": "c3990c60-bf75-4b08-a82f-b6d324fc896b",
   "metadata": {},
   "outputs": [
    {
     "name": "stderr",
     "output_type": "stream",
     "text": [
      "Updated property [core/project].\n",
      "Updated property [compute/region].\n"
     ]
    }
   ],
   "source": [
    "%%bash\n",
    "gcloud config set project $PROJECT\n",
    "gcloud config set compute/region $REGION"
   ]
  },
  {
   "cell_type": "code",
   "execution_count": 6,
   "id": "273c315c-7239-4c94-a3fa-05f81497fef6",
   "metadata": {
    "tags": []
   },
   "outputs": [
    {
     "name": "stdout",
     "output_type": "stream",
     "text": [
      "Process is interrupted.\n"
     ]
    }
   ],
   "source": [
    "%%bash\n",
    "\n",
    "JOBNAME=distributed_training_$(date -u +%y%m%d_%H%M%S)\n",
    "\n",
    "gcloud ai custom-jobs create \\\n",
    "    --region=$REGION \\\n",
    "    --display-name=$JOBNAME \\\n",
    "    --worker-pool-spec=machine-type=$MACHINE_TYPE,replica-count=$REPLICA_COUNT,executor-image-uri=$EXECUTE_IMAGE_URI,local-package-path=$LOCAL_PACKAGE_PATH,python-module=$PYTHON_MODULE \\\n",
    "    --args=--data-dir=gs://text-analysis-323506/data,--save-dir=gs://text-analysis-323506/daved_model,--batch-size=2048"
   ]
  },
  {
   "cell_type": "code",
   "execution_count": null,
   "id": "d34bc537-db25-4fa7-adda-f8cee0ee6222",
   "metadata": {},
   "outputs": [],
   "source": []
  }
 ],
 "metadata": {
  "environment": {
   "kernel": "python3",
   "name": "tf2-gpu.2-3.m90",
   "type": "gcloud",
   "uri": "gcr.io/deeplearning-platform-release/tf2-gpu.2-3:m90"
  },
  "kernelspec": {
   "display_name": "Python 3",
   "language": "python",
   "name": "python3"
  },
  "language_info": {
   "codemirror_mode": {
    "name": "ipython",
    "version": 3
   },
   "file_extension": ".py",
   "mimetype": "text/x-python",
   "name": "python",
   "nbconvert_exporter": "python",
   "pygments_lexer": "ipython3",
   "version": "3.7.12"
  }
 },
 "nbformat": 4,
 "nbformat_minor": 5
}
